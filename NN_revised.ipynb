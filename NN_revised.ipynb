{
  "nbformat": 4,
  "nbformat_minor": 0,
  "metadata": {
    "colab": {
      "name": "NN_revised.ipynb",
      "version": "0.3.2",
      "provenance": [],
      "collapsed_sections": [],
      "include_colab_link": true
    },
    "kernelspec": {
      "name": "python3",
      "display_name": "Python 3"
    }
  },
  "cells": [
    {
      "cell_type": "markdown",
      "metadata": {
        "id": "view-in-github",
        "colab_type": "text"
      },
      "source": [
        "[View in Colaboratory](https://colab.research.google.com/github/manharsharma007/Neural-Network-For-Digit-Recognition-Using-Numpy/blob/master/NN_revised.ipynb)"
      ]
    },
    {
      "metadata": {
        "id": "57-DHN6q0iuG",
        "colab_type": "code",
        "colab": {}
      },
      "cell_type": "code",
      "source": [
        "#Libraries\n",
        "\n",
        "import numpy as np\n",
        "import matplotlib.pyplot as plt\n",
        "from sklearn.datasets import load_digits"
      ],
      "execution_count": 0,
      "outputs": []
    },
    {
      "metadata": {
        "id": "DVY0Jb2Q1RWU",
        "colab_type": "code",
        "colab": {}
      },
      "cell_type": "code",
      "source": [
        "##Neural network class\n",
        "\n",
        "class DigitClassifier():\n",
        "    \n",
        "    #initialize parameters\n",
        "    def __init__(self):\n",
        "        #Define Hyperparameters\n",
        "        self.inputLayerSize = 64\n",
        "        self.outputLayerSize = 10\n",
        "        self.hiddenLayerSize = 20\n",
        "        self.learning_rate = 0.01\n",
        "        \n",
        "        #Weights (parameters)\n",
        "        self.W1 = np.random.randn(self.inputLayerSize,self.hiddenLayerSize)\n",
        "        self.W2 = np.random.randn(self.hiddenLayerSize,self.outputLayerSize)\n",
        "        \n",
        "        \n",
        "    def forward(self, input_data):\n",
        "        \n",
        "        self.y = np.dot(input_data, self.W1)\n",
        "        self.yHat = self.sigmoid(self.y)\n",
        "        \n",
        "        self.z = np.dot(self.yHat, self.W2)\n",
        "        self.zHat = self.sigmoid(self.z)\n",
        "        \n",
        "        return self.zHat\n",
        "    \n",
        "    \n",
        "    #compute Cost\n",
        "    def cost(self, input_data, output_data):\n",
        "        #Compute cost for given X,y, use weights already stored in class.\n",
        "        self.zHat = self.forward(input_data)\n",
        "        \n",
        "        J = 0.5*sum((output_data-self.zHat)**2)\n",
        "        return J\n",
        "    \n",
        "    \n",
        "    #Compute average cost\n",
        "    def averageCost(self,cost):\n",
        "        avg_cost = 0\n",
        "        for i in range(len(cost)):\n",
        "            avg_cost += cost[i]\n",
        "        \n",
        "        avg_cost /= len(cost)\n",
        "        \n",
        "        return avg_cost\n",
        "    \n",
        "    def sigmoid(self, z):\n",
        "        return 1.0/(1.0+np.exp(-z))\n",
        "    \n",
        "    def sigmoidPrime(self, z):\n",
        "        \n",
        "        \"\"\"Derivative of the sigmoid function.\"\"\"\n",
        "        return self.sigmoid(z)*(1-self.sigmoid(z))\n",
        "    \n",
        "    \n",
        "    def computeGradients(self, input_data, output_data):\n",
        "        \n",
        "        self.zHat = self.forward(input_data)\n",
        "        \n",
        "        self.J = self.cost(input_data, output_data)\n",
        "        \n",
        "        delta3 = np.multiply(-(output_data-self.zHat), self.sigmoidPrime(self.z))\n",
        "        dJdW2 = np.dot(self.yHat.T, delta3)\n",
        "        \n",
        "        delta2 = np.dot(delta3, self.W2.T)*self.sigmoidPrime(self.y)\n",
        "        dJdW1 = np.dot(input_data.T, delta2)\n",
        "        \n",
        "        return dJdW2,dJdW1\n",
        "    \n",
        "    \n",
        "    def train(self, input_examples, output_examples):\n",
        "        temp_cost = 0\n",
        "        for i in range(len(input_examples)):\n",
        "            \n",
        "            input_data = input_examples\n",
        "            output_data = output_examples\n",
        "            \n",
        "            for j in range(1000000):\n",
        "                \n",
        "                dJdW2,dJdW1 = self.computeGradients(input_data, output_data)\n",
        "                \n",
        "                self.W2 = self.W2 - (self.learning_rate * dJdW2)\n",
        "                self.W1 = self.W1 - (self.learning_rate * dJdW1)\n",
        "                \n",
        "                if(temp_cost == 0 or temp_cost > self.averageCost(self.J)):\n",
        "                  temp_cost = self.averageCost(self.J)\n",
        "                  \n",
        "                else:\n",
        "                  break\n",
        "        \n",
        "            print(self.averageCost(self.J))"
      ],
      "execution_count": 0,
      "outputs": []
    },
    {
      "metadata": {
        "id": "wBf4c8dg1SBv",
        "colab_type": "code",
        "colab": {}
      },
      "cell_type": "code",
      "source": [
        "digits = load_digits()"
      ],
      "execution_count": 0,
      "outputs": []
    },
    {
      "metadata": {
        "id": "zYDcJF-w1U75",
        "colab_type": "code",
        "colab": {}
      },
      "cell_type": "code",
      "source": [
        "#Filtering the output data\n",
        "output_data = [[0 for x in range(10)] for y in range(len(digits.data))]\n",
        "\n",
        "i = 0\n",
        "\n",
        "for x in digits.target:\n",
        "    \n",
        "    output_data[i][x] = 1\n",
        "    i = i + 1\n",
        "\n",
        "#Creating np array of output data\n",
        "output_data = np.array(output_data)"
      ],
      "execution_count": 0,
      "outputs": []
    },
    {
      "metadata": {
        "id": "Z7cTuOS81W45",
        "colab_type": "code",
        "colab": {}
      },
      "cell_type": "code",
      "source": [
        "#Initializing the network\n",
        "digit_classifier = DigitClassifier()"
      ],
      "execution_count": 0,
      "outputs": []
    },
    {
      "metadata": {
        "id": "fwa8LPcE1ZAP",
        "colab_type": "code",
        "colab": {}
      },
      "cell_type": "code",
      "source": [
        "#training on a small dataset\n",
        "#digit_classifier.train(digits.data[0:1000], output_data[0:1000])"
      ],
      "execution_count": 0,
      "outputs": []
    },
    {
      "metadata": {
        "id": "k8mT4oiO9cJv",
        "colab_type": "code",
        "colab": {
          "base_uri": "https://localhost:8080/",
          "height": 34
        },
        "outputId": "898ce755-7e98-43ca-a8c2-0888a609a634"
      },
      "cell_type": "code",
      "source": [
        "np.argmax(digit_classifier.forward(digits.data[7]))"
      ],
      "execution_count": 56,
      "outputs": [
        {
          "output_type": "execute_result",
          "data": {
            "text/plain": [
              "7"
            ]
          },
          "metadata": {
            "tags": []
          },
          "execution_count": 56
        }
      ]
    },
    {
      "metadata": {
        "id": "ezuFIJJ99qqG",
        "colab_type": "code",
        "colab": {}
      },
      "cell_type": "code",
      "source": [
        "np.set_printoptions(suppress=True)"
      ],
      "execution_count": 0,
      "outputs": []
    }
  ]
}